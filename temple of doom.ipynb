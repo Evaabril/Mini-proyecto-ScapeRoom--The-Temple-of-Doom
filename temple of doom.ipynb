{
 "cells": [
  {
   "cell_type": "code",
   "execution_count": 3,
   "id": "1132e678-1835-4b94-a23e-a75c8e831753",
   "metadata": {},
   "outputs": [],
   "source": [
    "# define rooms and items\n",
    "# master's chambers\n",
    "sarcophagus = {\n",
    "    \"name\": \"sarcophagus\",\n",
    "    \"type\": \"furniture\",\n",
    "}\n",
    "\n",
    "altar = {\n",
    "    \"name\": \"altar\",\n",
    "    \"type\": \"furniture\",\n",
    "}\n",
    "\n",
    "door_a = {\n",
    "    \"name\": \"door a\",\n",
    "    \"type\": \"door\",\n",
    "}\n",
    "\n",
    "key_a = {\n",
    "    \"name\": \"key for door a\",\n",
    "    \"type\": \"key\",\n",
    "    \"target\": door_a,\n",
    "}\n",
    "\n",
    "masters_chambers = {\n",
    "    \"name\": \"master's chambers\",\n",
    "    \"type\": \"room\",\n",
    "}\n",
    "\n",
    "# throne room\n",
    "throne = {\n",
    "    \"name\": \"throne\",\n",
    "    \"type\": \"furniture\",\n",
    "}\n",
    "\n",
    "pile_of_gold = {\n",
    "    \"name\": \"pile of gold\",\n",
    "    \"type\": \"death\",\n",
    "}\n",
    "\n",
    "cobra = {\n",
    "    \"name\": \"A COBRA and it bites you. YOU ARE DEAD\",\n",
    "    \"type\": \"death\",\n",
    "}\n",
    "\n",
    "door_b = {\n",
    "    \"name\": \"door b\",\n",
    "    \"type\": \"door\",\n",
    "}\n",
    "\n",
    "door_c = {\n",
    "    \"name\": \"door c\",\n",
    "    \"type\": \"door\",\n",
    "}\n",
    "key_b = {\n",
    "    \"name\": \"key for door b\",\n",
    "    \"type\": \"key\",\n",
    "    \"target\": door_b,\n",
    "}\n",
    "\n",
    "throne_room = {\n",
    "    \"name\": \"throne room\",\n",
    "    \"type\": \"room\",\n",
    "}\n",
    "\n",
    "# pharaoh's room\n",
    "pharaohs_bed = {\n",
    "    \"name\": \"pharaoh's bed\",\n",
    "    \"type\": \"furniture\",\n",
    "}\n",
    "\n",
    "dresser = {\n",
    "    \"name\": \"dresser\",\n",
    "    \"type\": \"furniture\",\n",
    "}\n",
    "\n",
    "door_b = {\n",
    "    \"name\": \"door b\",\n",
    "    \"type\": \"door\",\n",
    "}\n",
    "\n",
    "key_c = {\n",
    "    \"name\": \"key for door c\",\n",
    "    \"type\": \"key\",\n",
    "    \"target\": door_c,\n",
    "}\n",
    "\n",
    "door_d = {\n",
    "    \"name\": \"door d\",\n",
    "    \"type\": \"door\",\n",
    "}\n",
    "\n",
    "key_d = {\n",
    "    \"name\": \"key for door d\",\n",
    "    \"type\": \"key\",\n",
    "    \"target\": door_d,\n",
    "}\n",
    "\n",
    "room_of_pharaoh = {\n",
    "    \"name\": \"pharaoh's room\",\n",
    "    \"type\": \"room\",\n",
    "}\n",
    "# yard\n",
    "sphinx = {\n",
    "    \"name\": \"sphinx\",\n",
    "    \"type\": \"death\",\n",
    "}\n",
    "\n",
    "scorpion = {\n",
    "    \"name\": \"A HUGE SCORPION\",\n",
    "    \"type\": \"death\",\n",
    "}\n",
    "\n",
    "yard = {\n",
    "    \"name\": \"yard\",\n",
    "    \"type\": \"room\",\n",
    "}\n",
    "# GLOBAL\n",
    "outside = {\n",
    "  \"name\": \"outside\"\n",
    "}\n",
    "\n",
    "all_rooms = [masters_chambers, throne_room, room_of_pharaoh, yard, outside]\n",
    "\n",
    "all_doors = [door_a, door_b, door_c, door_d]\n",
    "\n",
    "# define which items/rooms are related\n",
    "\n",
    "object_relations = {\n",
    "    #master's chambers\n",
    "    \"master's chambers\": [sarcophagus, altar, door_a],\n",
    "    \"altar\": [key_a],\n",
    "    \"door a\": [masters_chambers, throne_room],\n",
    "    \n",
    "    #throne_room \n",
    "    \"throne room\": [throne, sphinx, door_b, door_c],\n",
    "    \"throne\": [key_b],\n",
    "    \"sphinx\": [scorpion], \n",
    "    \"door b\": [throne_room, room_of_pharaoh],\n",
    "    \"door c\": [throne_room, yard],\n",
    "    \n",
    "    #room_of_pharaoh\n",
    "    \"pharaoh's room\": [pharaohs_bed, dresser, door_b],\n",
    "    \"pharaoh's bed\": [key_c],\n",
    "    \"dresser\": [key_d],\n",
    "    \n",
    "    #living_room y sus muebles\n",
    "    \"yard\": [pile_of_gold, door_d],\n",
    "    \"pile of gold\": [cobra],\n",
    "    \"door d\": [yard, outside],\n",
    "    \n",
    "    #salida \n",
    "    \"outside\": [door_d],\n",
    "}\n",
    "\n",
    "# define game state. Do not directly change this dict. \n",
    "# Instead, when a new game starts, make a copy of this\n",
    "# dict and use the copy to store gameplay state. This \n",
    "# way you can replay the game multiple times.\n",
    "\n",
    "INIT_GAME_STATE = {\n",
    "    \"current_room\": masters_chambers,\n",
    "    \"keys_collected\": [],\n",
    "    \"target_room\": outside\n",
    "}\n",
    "\n",
    "def linebreak():\n",
    "    \"\"\"\n",
    "    Print a line break\n",
    "    \"\"\"\n",
    "    print(\"\\n\\n\")\n",
    "    \n",
    "def reset_game():\n",
    "    \"\"\"\n",
    "    Reset the game state to the initial state.\n",
    "    \"\"\"\n",
    "    game_state[\"current_room\"] = INIT_GAME_STATE[\"current_room\"]\n",
    "    game_state[\"keys_collected\"] = INIT_GAME_STATE[\"keys_collected\"]\n",
    "    game_state[\"target_room\"] = INIT_GAME_STATE[\"target_room\"]\n",
    "    \n",
    "    # Restaurar la llave key_a en el altar después de reiniciar el juego\n",
    "    object_relations[\"altar\"] = [key_a]\n",
    "    object_relations[\"throne\"] = [key_b]\n",
    "    object_relations[\"pharaoh's bed\"] = [key_c]\n",
    "    object_relations[\"dresser\"] = [key_d]\n",
    "\n",
    "def start_game():\n",
    "    \"\"\"\n",
    "    Start the game\n",
    "    \"\"\"\n",
    "    print(\"You wake up on a sarcophagus and find yourself inside a big room where the walls are full of hieroglyphs soon you realize you are trap inside an egiptian temple a place with no windows which you have never been to before. The only thing you can remember is that last night you were celebrating your birthday's party. You feel lost and confuse and the only thing you want to do is to find the way out!\")\n",
    "    play_room(game_state[\"current_room\"])\n",
    "                        \n",
    "def play_room(room):\n",
    "    \"\"\"\n",
    "    Play a room. First check if the room being played is the target room.\n",
    "    If it is, the game will end with success. Otherwise, let player either \n",
    "    explore (list all items in this room) or examine an item found here.\n",
    "    \"\"\"\n",
    "    game_state[\"current_room\"] = room\n",
    "    if(game_state[\"current_room\"] == game_state[\"target_room\"]):\n",
    "        print(\"Congrats! You've just escaped THE TEMPLE OF DOOM!\")\n",
    "    else:\n",
    "        print(\"You are now in \" + room[\"name\"])\n",
    "        intended_action = input(\"What would you like to do? Type 'explore' or 'examine'?\").strip()\n",
    "        if intended_action == \"explore\":\n",
    "            explore_room(room)\n",
    "            play_room(room)\n",
    "        elif intended_action == \"examine\":\n",
    "            examine_item(input(\"What would you like to examine?\").strip())\n",
    "        else:\n",
    "            print(\"Not sure what you mean. Type 'explore' or 'examine'.\")\n",
    "            play_room(room)\n",
    "        linebreak()\n",
    "\n",
    "def explore_room(room):\n",
    "    \"\"\"\n",
    "    Explore a room. List all items belonging to this room.\n",
    "    \"\"\"\n",
    "    items = [i[\"name\"] for i in object_relations[room[\"name\"]]]\n",
    "    print(\"You explore the room. This is \" + room[\"name\"] + \". You find \" + \", \".join(items))\n",
    "\n",
    "def get_next_room_of_door(door, current_room):\n",
    "    \"\"\"\n",
    "    From object_relations, find the two rooms connected to the given door.\n",
    "    Return the room that is not the current_room.\n",
    "    \"\"\"\n",
    "    connected_rooms = object_relations[door[\"name\"]]\n",
    "    for room in connected_rooms:\n",
    "        if(not current_room == room):\n",
    "            return room\n",
    "\n",
    "def examine_item(item_name):\n",
    "    \"\"\"\n",
    "    Examine an item which can be a door or furniture.\n",
    "    First make sure the intended item belongs to the current room.\n",
    "    Then check if the item is a door. Tell player if key hasn't been \n",
    "    collected yet. Otherwise ask player if they want to go to the next\n",
    "    room. If the item is not a door, then check if it contains keys.\n",
    "    Collect the key if found and update the game state. At the end,\n",
    "    play either the current or the next room depending on the game state\n",
    "    to keep playing.\n",
    "    \"\"\"\n",
    "    current_room = game_state[\"current_room\"]\n",
    "    next_room = \"\"\n",
    "    output = None\n",
    "    \n",
    "    for item in object_relations[current_room[\"name\"]]:\n",
    "        if item[\"name\"] == item_name:\n",
    "            output = \"You examine \" + item_name + \". \"\n",
    "            if item[\"type\"] == \"door\":\n",
    "                have_key = False\n",
    "                # Verificar si tienes alguna llave que pueda abrir esta puerta\n",
    "                for key in game_state[\"keys_collected\"]:\n",
    "                    # Comprobar si el objeto key tiene un atributo \"target\" y si coincide con la puerta actual\n",
    "                    if \"target\" in key and key[\"target\"] == item:\n",
    "                        have_key = True\n",
    "                        break  # Salir del bucle tan pronto como se encuentre la llave correcta\n",
    "                \n",
    "                if have_key:\n",
    "                    output += \"You unlock it with a key you have.\"\n",
    "                    next_room = get_next_room_of_door(item, current_room)              \n",
    "                else:\n",
    "                    output += \"It is locked but you don't have the key.\"\n",
    "            else:\n",
    "                if item[\"name\"] in object_relations and len(object_relations[item[\"name\"]]) > 0:\n",
    "                    item_found = object_relations[item[\"name\"]].pop()\n",
    "                    game_state[\"keys_collected\"].append(item_found)\n",
    "                    output += \"You find \" + item_found[\"name\"] + \".\"\n",
    "                    \n",
    "                    # Verificar si el objeto encontrado es una \"death\" (muerte)\n",
    "                    if item[\"type\"] == \"death\":\n",
    "                        if item[\"name\"] == \"pile of gold\":\n",
    "                            print(\"You find a beautiful COBRA. GAME OVER.\")\n",
    "                            reset_game()  # Reiniciar el juego al estado inicial\n",
    "                            play_room(game_state[\"current_room\"])  # Volver a jugar desde la habitación inicial\n",
    "                            return\n",
    "                        elif item[\"name\"] == \"sphinx\":\n",
    "                            print(\"You find a nice SCORPION. GAME OVER.\")\n",
    "                            reset_game()  # Reiniciar el juego al estado inicial\n",
    "                            play_room(game_state[\"current_room\"])  # Volver a jugar desde la habitación inicial\n",
    "                            return\n",
    "                else:\n",
    "                    output += \"There isn't anything interesting about it.\"\n",
    "            print(output)\n",
    "            break\n",
    "    \n",
    "    if output is None:\n",
    "        print(\"The item you requested is not found in the current room.\")\n",
    "    \n",
    "    if next_room and input(\"Do you want to go to the next room? Enter 'yes' or 'no'\").strip() == 'yes':\n",
    "        play_room(next_room)\n",
    "    else:\n",
    "        play_room(current_room)"
   ]
  },
  {
   "cell_type": "code",
   "execution_count": null,
   "id": "e191e491-c2a5-4ad6-81cf-cf7641a95b3f",
   "metadata": {
    "scrolled": true
   },
   "outputs": [
    {
     "name": "stdout",
     "output_type": "stream",
     "text": [
      "You wake up on a sarcophagus and find yourself inside a big room where the walls are full of hieroglyphs soon you realize you are trap inside an egiptian temple a place with no windows which you have never been to before. The only thing you can remember is that last night you were celebrating your birthday's party. You feel lost and confuse and the only thing you want to do is to find the way out!\n",
      "You are now in master's chambers\n"
     ]
    },
    {
     "name": "stdin",
     "output_type": "stream",
     "text": [
      "What would you like to do? Type 'explore' or 'examine'? explore\n"
     ]
    },
    {
     "name": "stdout",
     "output_type": "stream",
     "text": [
      "You explore the room. This is master's chambers. You find sarcophagus, altar, door a\n",
      "You are now in master's chambers\n"
     ]
    },
    {
     "name": "stdin",
     "output_type": "stream",
     "text": [
      "What would you like to do? Type 'explore' or 'examine'? examine\n",
      "What would you like to examine? altar\n"
     ]
    },
    {
     "name": "stdout",
     "output_type": "stream",
     "text": [
      "You examine altar. You find key for door a.\n",
      "You are now in master's chambers\n"
     ]
    },
    {
     "name": "stdin",
     "output_type": "stream",
     "text": [
      "What would you like to do? Type 'explore' or 'examine'? examine\n",
      "What would you like to examine? door a\n"
     ]
    },
    {
     "name": "stdout",
     "output_type": "stream",
     "text": [
      "You examine door a. You unlock it with a key you have.\n"
     ]
    },
    {
     "name": "stdin",
     "output_type": "stream",
     "text": [
      "Do you want to go to the next room? Enter 'yes' or 'no' yes\n"
     ]
    },
    {
     "name": "stdout",
     "output_type": "stream",
     "text": [
      "You are now in throne room\n"
     ]
    },
    {
     "name": "stdin",
     "output_type": "stream",
     "text": [
      "What would you like to do? Type 'explore' or 'examine'? explore\n"
     ]
    },
    {
     "name": "stdout",
     "output_type": "stream",
     "text": [
      "You explore the room. This is throne room. You find throne, sphinx, door b, door c\n",
      "You are now in throne room\n"
     ]
    },
    {
     "name": "stdin",
     "output_type": "stream",
     "text": [
      "What would you like to do? Type 'explore' or 'examine'? examine\n",
      "What would you like to examine? sphinx\n"
     ]
    },
    {
     "name": "stdout",
     "output_type": "stream",
     "text": [
      "You find a nice SCORPION. GAME OVER.\n",
      "You are now in master's chambers\n"
     ]
    },
    {
     "name": "stdin",
     "output_type": "stream",
     "text": [
      "What would you like to do? Type 'explore' or 'examine'? explore\n"
     ]
    },
    {
     "name": "stdout",
     "output_type": "stream",
     "text": [
      "You explore the room. This is master's chambers. You find sarcophagus, altar, door a\n",
      "You are now in master's chambers\n"
     ]
    },
    {
     "name": "stdin",
     "output_type": "stream",
     "text": [
      "What would you like to do? Type 'explore' or 'examine'? examine\n",
      "What would you like to examine? altar\n"
     ]
    },
    {
     "name": "stdout",
     "output_type": "stream",
     "text": [
      "You examine altar. You find key for door a.\n",
      "You are now in master's chambers\n"
     ]
    },
    {
     "name": "stdin",
     "output_type": "stream",
     "text": [
      "What would you like to do? Type 'explore' or 'examine'? examine\n",
      "What would you like to examine? door a\n"
     ]
    },
    {
     "name": "stdout",
     "output_type": "stream",
     "text": [
      "You examine door a. You unlock it with a key you have.\n"
     ]
    },
    {
     "name": "stdin",
     "output_type": "stream",
     "text": [
      "Do you want to go to the next room? Enter 'yes' or 'no' yes\n"
     ]
    },
    {
     "name": "stdout",
     "output_type": "stream",
     "text": [
      "You are now in throne room\n"
     ]
    },
    {
     "name": "stdin",
     "output_type": "stream",
     "text": [
      "What would you like to do? Type 'explore' or 'examine'? explore\n"
     ]
    },
    {
     "name": "stdout",
     "output_type": "stream",
     "text": [
      "You explore the room. This is throne room. You find throne, sphinx, door b, door c\n",
      "You are now in throne room\n"
     ]
    },
    {
     "name": "stdin",
     "output_type": "stream",
     "text": [
      "What would you like to do? Type 'explore' or 'examine'? examine\n",
      "What would you like to examine? throne\n"
     ]
    },
    {
     "name": "stdout",
     "output_type": "stream",
     "text": [
      "You examine throne. You find key for door b.\n",
      "You are now in throne room\n"
     ]
    },
    {
     "name": "stdin",
     "output_type": "stream",
     "text": [
      "What would you like to do? Type 'explore' or 'examine'? examine\n",
      "What would you like to examine? door b\n"
     ]
    },
    {
     "name": "stdout",
     "output_type": "stream",
     "text": [
      "You examine door b. You unlock it with a key you have.\n"
     ]
    },
    {
     "name": "stdin",
     "output_type": "stream",
     "text": [
      "Do you want to go to the next room? Enter 'yes' or 'no' yes\n"
     ]
    },
    {
     "name": "stdout",
     "output_type": "stream",
     "text": [
      "You are now in pharaoh's room\n"
     ]
    },
    {
     "name": "stdin",
     "output_type": "stream",
     "text": [
      "What would you like to do? Type 'explore' or 'examine'? explore\n"
     ]
    },
    {
     "name": "stdout",
     "output_type": "stream",
     "text": [
      "You explore the room. This is pharaoh's room. You find pharaoh's bed, dresser, door b\n",
      "You are now in pharaoh's room\n"
     ]
    },
    {
     "name": "stdin",
     "output_type": "stream",
     "text": [
      "What would you like to do? Type 'explore' or 'examine'? examine\n",
      "What would you like to examine? pharaoh's bed\n"
     ]
    },
    {
     "name": "stdout",
     "output_type": "stream",
     "text": [
      "You examine pharaoh's bed. You find key for door c.\n",
      "You are now in pharaoh's room\n"
     ]
    },
    {
     "name": "stdin",
     "output_type": "stream",
     "text": [
      "What would you like to do? Type 'explore' or 'examine'? examine\n",
      "What would you like to examine? dresser\n"
     ]
    },
    {
     "name": "stdout",
     "output_type": "stream",
     "text": [
      "You examine dresser. You find key for door d.\n",
      "You are now in pharaoh's room\n"
     ]
    },
    {
     "name": "stdin",
     "output_type": "stream",
     "text": [
      "What would you like to do? Type 'explore' or 'examine'? examine\n",
      "What would you like to examine? door b\n"
     ]
    },
    {
     "name": "stdout",
     "output_type": "stream",
     "text": [
      "You examine door b. You unlock it with a key you have.\n"
     ]
    },
    {
     "name": "stdin",
     "output_type": "stream",
     "text": [
      "Do you want to go to the next room? Enter 'yes' or 'no' yes\n"
     ]
    },
    {
     "name": "stdout",
     "output_type": "stream",
     "text": [
      "You are now in throne room\n"
     ]
    },
    {
     "name": "stdin",
     "output_type": "stream",
     "text": [
      "What would you like to do? Type 'explore' or 'examine'? explore\n"
     ]
    },
    {
     "name": "stdout",
     "output_type": "stream",
     "text": [
      "You explore the room. This is throne room. You find throne, sphinx, door b, door c\n",
      "You are now in throne room\n"
     ]
    },
    {
     "name": "stdin",
     "output_type": "stream",
     "text": [
      "What would you like to do? Type 'explore' or 'examine'? examine\n",
      "What would you like to examine? door c\n"
     ]
    },
    {
     "name": "stdout",
     "output_type": "stream",
     "text": [
      "You examine door c. You unlock it with a key you have.\n"
     ]
    },
    {
     "name": "stdin",
     "output_type": "stream",
     "text": [
      "Do you want to go to the next room? Enter 'yes' or 'no' yes\n"
     ]
    },
    {
     "name": "stdout",
     "output_type": "stream",
     "text": [
      "You are now in yard\n"
     ]
    },
    {
     "name": "stdin",
     "output_type": "stream",
     "text": [
      "What would you like to do? Type 'explore' or 'examine'? explore\n"
     ]
    },
    {
     "name": "stdout",
     "output_type": "stream",
     "text": [
      "You explore the room. This is yard. You find pile of gold, door d\n",
      "You are now in yard\n"
     ]
    },
    {
     "name": "stdin",
     "output_type": "stream",
     "text": [
      "What would you like to do? Type 'explore' or 'examine'? examine\n"
     ]
    }
   ],
   "source": [
    "game_state = INIT_GAME_STATE.copy()\n",
    "\n",
    "start_game()"
   ]
  },
  {
   "cell_type": "markdown",
   "id": "3a12a3e7-6542-4b3c-95b4-e73ae6c9da42",
   "metadata": {},
   "source": [
    "## Presentación del proyecto\n",
    "https://docs.google.com/presentation/d/1I8WLykVHGOHHbEISw46iwZC6tDVk_rE_fTXnLrGsbzo/edit?usp=sharing"
   ]
  },
  {
   "cell_type": "code",
   "execution_count": null,
   "id": "dd7aa3d9-75e6-4ddd-8da9-bb28996615b1",
   "metadata": {},
   "outputs": [],
   "source": []
  }
 ],
 "metadata": {
  "kernelspec": {
   "display_name": "Python 3 (ipykernel)",
   "language": "python",
   "name": "python3"
  },
  "language_info": {
   "codemirror_mode": {
    "name": "ipython",
    "version": 3
   },
   "file_extension": ".py",
   "mimetype": "text/x-python",
   "name": "python",
   "nbconvert_exporter": "python",
   "pygments_lexer": "ipython3",
   "version": "3.11.7"
  }
 },
 "nbformat": 4,
 "nbformat_minor": 5
}
